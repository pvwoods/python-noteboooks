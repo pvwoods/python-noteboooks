{
 "cells": [
  {
   "cell_type": "code",
   "execution_count": 41,
   "metadata": {},
   "outputs": [
    {
     "data": {
      "text/plain": [
       "EfficiencyScore(huffEncodedBitSize=187, normalCharacterBitSize=4, normalBitSize=188, difference=1)"
      ]
     },
     "execution_count": 41,
     "metadata": {},
     "output_type": "execute_result"
    }
   ],
   "source": [
    "import math\n",
    "from collections import Counter, namedtuple\n",
    "\n",
    "def huffmanTree(s):\n",
    "    stack = Counter(s).most_common()\n",
    "    while len(stack) > 2:\n",
    "        a, b, c = sorted([stack.pop(), stack.pop(), stack.pop()], key=lambda x: x[1])\n",
    "        stack.append(c)\n",
    "        d = ((a,b), a[1] + b[1])\n",
    "        stack.append(d)\n",
    "    return ((stack[0], stack[1]), stack[0][1] + stack[1][1])\n",
    "\n",
    "def huffCodes(s):\n",
    "    tree = huffmanTree(s)\n",
    "    stack = [(huffmanTree(s), '')]\n",
    "    result = {}\n",
    "    while len(stack):\n",
    "        node, code = stack.pop()\n",
    "        children, weight = node\n",
    "        if isinstance(children, tuple):\n",
    "            stack.append((children[0], code + '0'))\n",
    "            stack.append((children[1], code + '1'))\n",
    "        else:\n",
    "            result[children] = code\n",
    "        \n",
    "    return result\n",
    "\n",
    "EfficiencyScore = namedtuple('EfficiencyScore', ['huffEncodedBitSize', 'normalCharacterBitSize', 'normalBitSize', 'difference'])\n",
    "def huffEfficiency(A):\n",
    "    codes = huffCodes(A)\n",
    "    huffEncoded = \"\".join([codes[c] for c in A])\n",
    "    si = int(math.sqrt(len(set(A))))\n",
    "    hebs, nbs = len(huffEncoded), (si * len(A))\n",
    "    return EfficiencyScore(hebs, si, nbs, nbs - hebs)\n",
    "    \n",
    "text = 'there once was a doll that lived in the street.'\n",
    "huffEfficiency(text)"
   ]
  },
  {
   "cell_type": "code",
   "execution_count": 42,
   "metadata": {},
   "outputs": [
    {
     "data": {
      "text/plain": [
       "EfficiencyScore(huffEncodedBitSize=11880, normalCharacterBitSize=6, normalBitSize=13986, difference=2106)"
      ]
     },
     "execution_count": 42,
     "metadata": {},
     "output_type": "execute_result"
    }
   ],
   "source": [
    "A = '''\n",
    "Lorem ipsum dolor sit amet, consectetur adipiscing elit. Nullam pretium laoreet hendrerit. Aenean id diam neque. Donec vestibulum velit ut dolor pulvinar, ut posuere neque dapibus. Morbi pretium quis lectus non vestibulum. Nunc consectetur auctor placerat. Donec non diam porttitor, euismod lacus quis, bibendum tortor. Vivamus venenatis dui magna, tristique scelerisque purus luctus sit amet.\n",
    "\n",
    "Integer egestas faucibus massa, tincidunt dictum diam porttitor sit amet. Aenean eu varius neque. Donec congue orci sit amet faucibus lobortis. Donec posuere enim a enim maximus, quis rhoncus lorem ullamcorper. Morbi scelerisque, mauris non aliquam cursus, quam odio venenatis ligula, vel suscipit neque ante interdum est. In auctor ullamcorper gravida. Phasellus porttitor rutrum risus, eget sollicitudin nisl semper at. Sed vitae varius velit. In maximus ornare nisl in venenatis. In hac habitasse platea dictumst.\n",
    "\n",
    "In a risus at lectus dignissim porta sit amet sed magna. Cras pharetra est in posuere pretium. Nulla blandit purus eu euismod porta. Donec tempor mattis efficitur. Vivamus maximus enim vel elementum rutrum. Duis odio nulla, bibendum eget eleifend id, suscipit eget justo. Maecenas pellentesque commodo tortor id maximus. Fusce non euismod dui. Donec ornare cursus eros et gravida. Mauris convallis libero eget sagittis maximus. Mauris pretium elit mi, id pellentesque dolor rhoncus cursus. Quisque vitae eros id felis volutpat sollicitudin.\n",
    "\n",
    "Aliquam a vehicula mauris, eget facilisis elit. Mauris ac aliquet nisl, sagittis tincidunt urna. Sed quis dictum massa. Praesent ornare neque tortor, in vehicula augue sodales ut. Pellentesque habitant morbi tristique senectus et netus et malesuada fames ac turpis egestas. Cras pharetra, nisl non volutpat gravida, mi lacus eleifend sem, ac porttitor lectus risus non turpis. Nulla eget sollicitudin nisi. Sed vitae interdum arcu. Sed orci quam, pharetra eget aliquam id, gravida a risus. Lorem ipsum dolor sit amet, consectetur adipiscing elit. Ut elementum semper libero, vel tempus erat rutrum at. Morbi malesuada neque non eros porttitor, at sagittis neque rhoncus. In lobortis consectetur quam nec pellentesque. Phasellus sit amet lorem ut sem mattis fermentum eget tempus justo. Curabitur accumsan ipsum enim. Morbi urna nisi, blandit ac pulvinar vel, tempus eu nibh.\n",
    "'''\n",
    "\n",
    "huffEfficiency(A)"
   ]
  }
 ],
 "metadata": {
  "kernelspec": {
   "display_name": "Python 3",
   "language": "python",
   "name": "python3"
  },
  "language_info": {
   "codemirror_mode": {
    "name": "ipython",
    "version": 3
   },
   "file_extension": ".py",
   "mimetype": "text/x-python",
   "name": "python",
   "nbconvert_exporter": "python",
   "pygments_lexer": "ipython3",
   "version": "3.6.1"
  }
 },
 "nbformat": 4,
 "nbformat_minor": 2
}
